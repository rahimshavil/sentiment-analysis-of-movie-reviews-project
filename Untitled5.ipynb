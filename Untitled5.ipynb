{
  "nbformat": 4,
  "nbformat_minor": 0,
  "metadata": {
    "colab": {
      "provenance": [],
      "authorship_tag": "ABX9TyNZRJyKLZGe/pUz7gg0/rKw",
      "include_colab_link": true
    },
    "kernelspec": {
      "name": "python3",
      "display_name": "Python 3"
    },
    "language_info": {
      "name": "python"
    }
  },
  "cells": [
    {
      "cell_type": "markdown",
      "metadata": {
        "id": "view-in-github",
        "colab_type": "text"
      },
      "source": [
        "<a href=\"https://colab.research.google.com/github/rahimshavil/sentiment-analysis-of-movie-reviews-project/blob/main/Untitled5.ipynb\" target=\"_parent\"><img src=\"https://colab.research.google.com/assets/colab-badge.svg\" alt=\"Open In Colab\"/></a>"
      ]
    },
    {
      "cell_type": "code",
      "execution_count": 16,
      "metadata": {
        "colab": {
          "base_uri": "https://localhost:8080/"
        },
        "id": "seU4NE0zxyQE",
        "outputId": "1cf7c0a9-5cf4-4b07-9f18-9b4f0b91889d"
      },
      "outputs": [
        {
          "output_type": "stream",
          "name": "stdout",
          "text": [
            "                                              review sentiment\n",
            "0  One of the other reviewers has mentioned that ...  positive\n",
            "1  A wonderful little production. <br /><br />The...  positive\n",
            "2  I thought this was a wonderful way to spend ti...  positive\n",
            "3  Basically there's a family where a little boy ...  negative\n",
            "4  Petter Mattei's \"Love in the Time of Money\" is...  positive\n",
            "<class 'pandas.core.frame.DataFrame'>\n",
            "RangeIndex: 50000 entries, 0 to 49999\n",
            "Data columns (total 2 columns):\n",
            " #   Column     Non-Null Count  Dtype \n",
            "---  ------     --------------  ----- \n",
            " 0   review     50000 non-null  object\n",
            " 1   sentiment  50000 non-null  object\n",
            "dtypes: object(2)\n",
            "memory usage: 781.4+ KB\n",
            "None\n"
          ]
        },
        {
          "output_type": "stream",
          "name": "stderr",
          "text": [
            "[nltk_data] Downloading package stopwords to /root/nltk_data...\n",
            "[nltk_data]   Package stopwords is already up-to-date!\n"
          ]
        },
        {
          "output_type": "stream",
          "name": "stdout",
          "text": [
            "                                              review  sentiment  \\\n",
            "0  One of the other reviewers has mentioned that ...          1   \n",
            "1  A wonderful little production. <br /><br />The...          1   \n",
            "2  I thought this was a wonderful way to spend ti...          1   \n",
            "3  Basically there's a family where a little boy ...          0   \n",
            "4  Petter Mattei's \"Love in the Time of Money\" is...          1   \n",
            "\n",
            "                                        clean_review  \n",
            "0  one reviewers mentioned watching oz episode ho...  \n",
            "1  wonderful little production filming technique ...  \n",
            "2  thought wonderful way spend time hot summer we...  \n",
            "3  basically family little boy jake thinks zombie...  \n",
            "4  petter mattei love time money visually stunnin...  \n",
            "Accuracy: 0.8915\n",
            "[[4349  612]\n",
            " [ 473 4566]]\n",
            "              precision    recall  f1-score   support\n",
            "\n",
            "           0       0.90      0.88      0.89      4961\n",
            "           1       0.88      0.91      0.89      5039\n",
            "\n",
            "    accuracy                           0.89     10000\n",
            "   macro avg       0.89      0.89      0.89     10000\n",
            "weighted avg       0.89      0.89      0.89     10000\n",
            "\n",
            "Positive Review\n",
            "Negative Review\n",
            "Negative Review\n",
            "Positive Review\n"
          ]
        }
      ],
      "source": [
        "import pandas as pd\n",
        "import numpy as np\n",
        "import matplotlib.pyplot as plt\n",
        "import seaborn as sns\n",
        "import sklearn\n",
        "import nltk\n",
        "import pandas as pd\n",
        "\n",
        "# Load the dataset\n",
        "df = pd.read_csv('/content/IMDB Dataset.csv')\n",
        "\n",
        "# Check the first few rows\n",
        "print(df.head())\n",
        "\n",
        "# Check data info\n",
        "print(df.info())\n",
        "import nltk\n",
        "from nltk.corpus import stopwords\n",
        "import re\n",
        "\n",
        "nltk.download('stopwords')\n",
        "stop_words = set(stopwords.words('english'))\n",
        "\n",
        "# Function to clean text\n",
        "def clean_text(text):\n",
        "    text = text.lower()  # lowercase\n",
        "    text = re.sub(r'<.*?>', '', text)  # remove HTML tags\n",
        "    text = re.sub(r'[^a-zA-Z]', ' ', text)  # remove non-letters\n",
        "    words = text.split()\n",
        "    words = [w for w in words if w not in stop_words]\n",
        "    return ' '.join(words)\n",
        "\n",
        "df['clean_review'] = df['review'].apply(clean_text)\n",
        "\n",
        "# Convert labels\n",
        "df['sentiment'] = df['sentiment'].map({'positive':1, 'negative':0})\n",
        "\n",
        "print(df.head())\n",
        "from sklearn.model_selection import train_test_split\n",
        "\n",
        "X = df['clean_review']\n",
        "y = df['sentiment']\n",
        "\n",
        "X_train, X_test, y_train, y_test = train_test_split(X, y, test_size=0.2, random_state=42)\n",
        "from sklearn.feature_extraction.text import TfidfVectorizer\n",
        "\n",
        "vectorizer = TfidfVectorizer(max_features=5000)\n",
        "X_train_vec = vectorizer.fit_transform(X_train)\n",
        "X_test_vec = vectorizer.transform(X_test)\n",
        "from sklearn.linear_model import LogisticRegression\n",
        "from sklearn.metrics import accuracy_score, confusion_matrix, classification_report\n",
        "\n",
        "# Train model\n",
        "model = LogisticRegression()\n",
        "model.fit(X_train_vec, y_train)\n",
        "\n",
        "# Predict\n",
        "y_pred = model.predict(X_test_vec)\n",
        "\n",
        "# Evaluate\n",
        "print(\"Accuracy:\", accuracy_score(y_test, y_pred))\n",
        "print(confusion_matrix(y_test, y_pred))\n",
        "print(classification_report(y_test, y_pred))\n",
        "test_review = \"I loved this movie, it was amazing!\"\n",
        "test_review_vec = vectorizer.transform([clean_text(test_review)])\n",
        "prediction = model.predict(test_review_vec)\n",
        "print(\"Negative Review\" if prediction[0]==0 else \"Positive Review\")\n",
        "\n",
        "review = \"I hated this movie. It was boring and too long.\"\n",
        "# Predict sentiment\n",
        "prediction = model.predict(vectorizer.transform([clean_text(review)]))\n",
        "# Print result\n",
        "print(\"Negative Review\" if prediction[0]==0 else \"Positive Review\")\n",
        "\n",
        "review = \"this movie is bad\"\n",
        "prediction = model.predict(vectorizer.transform([clean_text(review)]))\n",
        "print(\"Negative Review\" if prediction[0]==0 else \"Positive Review\")\n",
        "\n",
        "review = \"this movie is beautiful and wonderful i enjoyed alot\"\n",
        "prediction = model.predict(vectorizer.transform([clean_text(review)]))\n",
        "print(\"Negative Review\" if prediction[0]==0 else \"Positive Review\")\n"
      ]
    }
  ]
}